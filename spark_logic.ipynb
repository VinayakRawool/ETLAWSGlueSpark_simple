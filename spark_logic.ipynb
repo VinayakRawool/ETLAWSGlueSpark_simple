{
	"cells": [
		{
			"cell_type": "code",
			"execution_count": null,
			"metadata": {
				"editable": true,
				"trusted": true,
				"vscode": {
					"languageId": "python_glue_session"
				}
			},
			"outputs": [],
			"source": [
				"import sys\n",
				"from awsglue.transforms import *\n",
				"from awsglue.utils import getResolvedOptions\n",
				"from pyspark.context import SparkContext\n",
				"from awsglue.context import GlueContext\n",
				"from awsglue.job import Job\n",
				"  \n",
				"sc = SparkContext.getOrCreate()\n",
				"glueContext = GlueContext(sc)\n",
				"spark = glueContext.spark_session\n",
				"job = Job(glueContext)"
			]
		},
		{
			"cell_type": "code",
			"execution_count": null,
			"metadata": {
				"trusted": true,
				"vscode": {
					"languageId": "python_glue_session"
				}
			},
			"outputs": [],
			"source": [
				"# this will show all the databases in Glue Catalog.\n",
				"spark.sql(\"show databases\").show()"
			]
		},
		{
			"cell_type": "code",
			"execution_count": null,
			"metadata": {
				"trusted": true,
				"vscode": {
					"languageId": "python_glue_session"
				}
			},
			"outputs": [],
			"source": [
				"spark.sql(\"create database if not exists spark_glue_etl\")"
			]
		},
		{
			"cell_type": "code",
			"execution_count": null,
			"metadata": {
				"trusted": true,
				"vscode": {
					"languageId": "python_glue_session"
				}
			},
			"outputs": [],
			"source": [
				"# another way of writing SQL.\n",
				"\n",
				"%%sql\n",
				"CREATE EXTERNAL TABLE IF NOT EXISTS spark_glueworkshop.spark_csv\n",
				"(\n",
				"uuid bigint,\n",
				"Country string,\n",
				"item_type string,\n",
				"sales_channel string,\n",
				"order_priority string, \n",
				"order_date string,\n",
				"region string,\n",
				"ship_date string,\n",
				"units_sold bigint,\n",
				"unit_price double,\n",
				"unit_cost double,\n",
				"total_revenue double,\n",
				"total_cost double,\n",
				"total_profit double\n",
				"  ) \n",
				"    STORED AS TEXTFILE\n",
				"    LOCATION 's3://${BUCKET_NAME}/input/lab1/csv/'\n",
				"    ROW FORMAT DELIMITED \n",
				"    FIELDS TERMINATED BY ',' \n",
				"    LINES TERMINATED BY '\\n'\n",
				"TBLPROPERTIES (\n",
				"  \"skip.header.line.count\"=\"1\")\n"
			]
		},
		{
			"cell_type": "code",
			"execution_count": null,
			"metadata": {
				"trusted": true,
				"vscode": {
					"languageId": "python_glue_session"
				}
			},
			"outputs": [],
			"source": [
				"spark.sql(\"SELECT * from  spark_glueworkshop.spark_csv limit 10\")"
			]
		}
	],
	"metadata": {
		"kernelspec": {
			"display_name": "Glue PySpark",
			"language": "python",
			"name": "glue_pyspark"
		},
		"language_info": {
			"codemirror_mode": {
				"name": "python",
				"version": 3
			},
			"file_extension": ".py",
			"mimetype": "text/x-python",
			"name": "Python_Glue_Session",
			"pygments_lexer": "python3"
		}
	},
	"nbformat": 4,
	"nbformat_minor": 4
}
